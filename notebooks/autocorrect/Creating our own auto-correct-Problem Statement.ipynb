{
 "cells": [
  {
   "cell_type": "markdown",
   "metadata": {},
   "source": [
    "# Auto Correct in Python\n",
    "\n",
    "Given a word w, find the most likely correction `c = correct(w)`.\n",
    "\n",
    "Approach: Try all candidate words `c` that are known words that are near `w`. Choose the most likely one.\n",
    "\n",
    "Our main data from where we'll be pulling out words is from [this location](http://www.openbookproject.net/courses/python4fun/_static/spellcheck/spell.words)"
   ]
  },
  {
   "cell_type": "markdown",
   "metadata": {},
   "source": [
    "## 1. Download the data programmatically or via CLI (choose your poison)\n",
    "\n",
    "### 1.1. Programmatically"
   ]
  },
  {
   "cell_type": "code",
   "execution_count": null,
   "metadata": {},
   "outputs": [],
   "source": []
  },
  {
   "cell_type": "code",
   "execution_count": null,
   "metadata": {},
   "outputs": [],
   "source": []
  },
  {
   "cell_type": "markdown",
   "metadata": {},
   "source": [
    "### 1.2. Via CLI"
   ]
  },
  {
   "cell_type": "code",
   "execution_count": null,
   "metadata": {},
   "outputs": [],
   "source": []
  },
  {
   "cell_type": "markdown",
   "metadata": {},
   "source": [
    "***\n",
    "\n",
    "## 2. Look around to read the file\n",
    "\n",
    "### Choose the option that you are familiar with covered during the course"
   ]
  },
  {
   "cell_type": "code",
   "execution_count": null,
   "metadata": {},
   "outputs": [],
   "source": []
  },
  {
   "cell_type": "code",
   "execution_count": null,
   "metadata": {},
   "outputs": [],
   "source": []
  },
  {
   "cell_type": "markdown",
   "metadata": {},
   "source": [
    "***\n",
    "## 3. Make sure that the words don't contain any special characters. If you find any try to clean up the files"
   ]
  },
  {
   "cell_type": "code",
   "execution_count": null,
   "metadata": {},
   "outputs": [],
   "source": []
  },
  {
   "cell_type": "code",
   "execution_count": null,
   "metadata": {},
   "outputs": [],
   "source": []
  },
  {
   "cell_type": "markdown",
   "metadata": {},
   "source": [
    "***\n",
    "## 4. What does the theory say?\n",
    "\n",
    "### 4.1 Generally, if we want to check if the word in contention is correct or not we need to calculate the edit distance:\n",
    "\n",
    "> Edit distance is a way of quantifying how dissimilar two strings (e.g., words) are to one another by counting the minimum number of operations required to transform one string into the other. \n",
    "\n",
    "> Edit distances find applications in natural language processing, where automatic spelling correction can determine candidate corrections for a misspelled word by selecting words from a dictionary that have a low distance to the word in question"
   ]
  },
  {
   "cell_type": "markdown",
   "metadata": {},
   "source": [
    "### 4.2 Most commonly taught one is Levenstein's distance:\n",
    "\n",
    "#### Example: \n",
    "\n",
    "The Levenshtein distance between \"kitten\" and \"sitting\" is 3. A minimal edit script that transforms the former into the latter is:\n",
    "\n",
    "![](https://olimex.files.wordpress.com/2014/11/74bc0fa858652701ff47bfd125c83eeb.png)"
   ]
  },
  {
   "cell_type": "markdown",
   "metadata": {},
   "source": [
    "### 4.3. But we won't be going that way, instead we'll be generating encodings first\n",
    "\n",
    "In generic terms what are encodings:\n",
    "\n",
    "![](https://www.w3.org/International/articles/definitions-characters/index-data/encodings.png)"
   ]
  },
  {
   "cell_type": "markdown",
   "metadata": {},
   "source": [
    "## The encoding algorithm that you'll have to write is: _Soundex Encoding_ (albeit it's variant)"
   ]
  },
  {
   "cell_type": "markdown",
   "metadata": {},
   "source": [
    "***\n",
    "## 5. Implementing Soundex Algorithm\n",
    "\n",
    "What are the steps in Soundex Algorithm\n",
    "\n",
    "- Retain the first letter of the name\n",
    "- Replace consonants with digits as follows (after the first letter):\n",
    "    - a, e, i, o, u, y, h, w = 0\n",
    "    - b, f, p, v = 1\n",
    "    - c, g, j, k, q, s, x, z = 2\n",
    "    - d, t = 3\n",
    "    - l = 4\n",
    "    - m, n = 5\n",
    "    - r = 6\n",
    "- If two or more letters with the same number are adjacent in the original name (before step 1), only retain the first letter\n",
    "- (__We won't be coding this part__) If you have too few letters in your word that you can't assign three numbers, append with zeros until there are three numbers. If you have more than 3 letters, just retain the first 3 numbers."
   ]
  },
  {
   "cell_type": "markdown",
   "metadata": {},
   "source": [
    "### 5.1. Retaining the first letter of the name\n",
    "\n",
    "Example: Suppose your word is `comittee`. You need to retain: `c` from `comittee` separately. The next steps will be run on `omittee`"
   ]
  },
  {
   "cell_type": "code",
   "execution_count": null,
   "metadata": {},
   "outputs": [],
   "source": []
  },
  {
   "cell_type": "code",
   "execution_count": null,
   "metadata": {},
   "outputs": [],
   "source": []
  },
  {
   "cell_type": "markdown",
   "metadata": {},
   "source": [
    "### 5.2. Replace consonants with digits (__refer above__):\n",
    "\n",
    "Example: `omittee` would be eventually --> `0503300`"
   ]
  },
  {
   "cell_type": "code",
   "execution_count": null,
   "metadata": {},
   "outputs": [],
   "source": []
  },
  {
   "cell_type": "code",
   "execution_count": null,
   "metadata": {},
   "outputs": [],
   "source": []
  },
  {
   "cell_type": "markdown",
   "metadata": {},
   "source": [
    "### 5.3. If two or more letters with the same number are adjacent in the original name (before step 1), only retain the first letter\n",
    "\n",
    "Example: `0503300` would be --> `05030`, i.e. the adjacent `33` would be just replaced by `3`. Similar with `00`"
   ]
  },
  {
   "cell_type": "code",
   "execution_count": null,
   "metadata": {},
   "outputs": [],
   "source": []
  },
  {
   "cell_type": "code",
   "execution_count": null,
   "metadata": {},
   "outputs": [],
   "source": []
  },
  {
   "cell_type": "markdown",
   "metadata": {},
   "source": [
    "***\n",
    "## 6. Above are the building blocks for the algorithm. Now create a function `generate_soundex_encodings`\n",
    "\n",
    "#### `generate_soundex_encodings` would take in a list of the words (remember `words` from task two?) and return: `soundex_encodings`"
   ]
  },
  {
   "cell_type": "code",
   "execution_count": null,
   "metadata": {},
   "outputs": [],
   "source": []
  },
  {
   "cell_type": "code",
   "execution_count": null,
   "metadata": {},
   "outputs": [],
   "source": []
  },
  {
   "cell_type": "code",
   "execution_count": null,
   "metadata": {},
   "outputs": [],
   "source": []
  },
  {
   "cell_type": "markdown",
   "metadata": {},
   "source": [
    "***\n",
    "## 7. Now create another function to calculate the encodings for the entire list `words` against this and save this as a `pickle` file. Read about pickle [here](https://stackoverflow.com/questions/4530611/saving-and-loading-objects-and-using-pickle)"
   ]
  },
  {
   "cell_type": "code",
   "execution_count": null,
   "metadata": {},
   "outputs": [],
   "source": []
  },
  {
   "cell_type": "code",
   "execution_count": null,
   "metadata": {},
   "outputs": [],
   "source": []
  },
  {
   "cell_type": "markdown",
   "metadata": {},
   "source": [
    "***\n",
    "## 8. Once we have the soundex encodings generated, next task is to find out a way to calculate distances comparing the encoding of the incoming word and the already generated soundex encodings\n",
    "\n",
    "### 8.1. Below are the steps for the Jaro distance algorithm\n",
    "\n",
    "> The Jaro distance is a measure of similarity between two strings.\n",
    "\n",
    "> The higher the Jaro distance for two strings is, the more similar the strings are.\n",
    "\n",
    "> The score is normalized such that 0 equates to no similarity and 1 is an exact match.\n",
    "\n",
    "![](jaro-algorithm.png)\n",
    "\n",
    "### 8.2. Example:\n",
    "\n",
    "![](jaro-example.png)"
   ]
  },
  {
   "cell_type": "markdown",
   "metadata": {},
   "source": [
    "### 8.3 Find the number of matching characters"
   ]
  },
  {
   "cell_type": "code",
   "execution_count": null,
   "metadata": {},
   "outputs": [],
   "source": []
  },
  {
   "cell_type": "code",
   "execution_count": null,
   "metadata": {},
   "outputs": [],
   "source": []
  },
  {
   "cell_type": "code",
   "execution_count": null,
   "metadata": {},
   "outputs": [],
   "source": []
  },
  {
   "cell_type": "markdown",
   "metadata": {},
   "source": [
    "### 8.4 Find the lengths of the two given strings"
   ]
  },
  {
   "cell_type": "code",
   "execution_count": null,
   "metadata": {},
   "outputs": [],
   "source": []
  },
  {
   "cell_type": "code",
   "execution_count": null,
   "metadata": {},
   "outputs": [],
   "source": []
  },
  {
   "cell_type": "code",
   "execution_count": null,
   "metadata": {},
   "outputs": [],
   "source": []
  },
  {
   "cell_type": "markdown",
   "metadata": {},
   "source": [
    "### 8.5 Find `t` i.e. half number of transpositions\n",
    "\n",
    "`t` is the number of characters that are shared but are in different positions, divided by `2`. \n",
    "\n",
    "For __MARTHA__ and __MARHTA__ , 2 characters (H and T) are shared but are in different positions so `t = 2/2 = 1`.\n",
    "\n",
    "But for __DWAYNE__ and __DUANE__ it is `t = 0/2 = 0`."
   ]
  },
  {
   "cell_type": "code",
   "execution_count": null,
   "metadata": {},
   "outputs": [],
   "source": []
  },
  {
   "cell_type": "code",
   "execution_count": null,
   "metadata": {},
   "outputs": [],
   "source": []
  },
  {
   "cell_type": "code",
   "execution_count": null,
   "metadata": {},
   "outputs": [],
   "source": []
  },
  {
   "cell_type": "markdown",
   "metadata": {},
   "source": [
    "### 8.6 Write a function, `get_jaro_distance()` to calculate Jaro distance for both the strings "
   ]
  },
  {
   "cell_type": "code",
   "execution_count": null,
   "metadata": {},
   "outputs": [],
   "source": []
  },
  {
   "cell_type": "code",
   "execution_count": null,
   "metadata": {},
   "outputs": [],
   "source": []
  },
  {
   "cell_type": "code",
   "execution_count": null,
   "metadata": {},
   "outputs": [],
   "source": []
  },
  {
   "cell_type": "code",
   "execution_count": null,
   "metadata": {},
   "outputs": [],
   "source": []
  },
  {
   "cell_type": "markdown",
   "metadata": {},
   "source": [
    "***\n",
    "\n",
    "## 9. Next step will be to write a function: `autocorrect()` that will take in: Soundex encodings for all the words and the `target_word` that needs to be autocorrected\n",
    "\n",
    "Example: autocorrect(words_encodings, target_word=\"comittee\") --> output would be top five choices of words for which the jaro distance (__see above__) is highest\n",
    "\n",
    "Output expected: `['committee', 'commit', 'comet', 'committed', 'com']` (__NOTE: Not a representative example__)"
   ]
  },
  {
   "cell_type": "code",
   "execution_count": null,
   "metadata": {},
   "outputs": [],
   "source": []
  },
  {
   "cell_type": "code",
   "execution_count": null,
   "metadata": {},
   "outputs": [],
   "source": []
  },
  {
   "cell_type": "code",
   "execution_count": null,
   "metadata": {},
   "outputs": [],
   "source": []
  },
  {
   "cell_type": "markdown",
   "metadata": {},
   "source": [
    "### Finally, you done folks with your own auto-correct"
   ]
  }
 ],
 "metadata": {
  "kernelspec": {
   "display_name": "Python 3",
   "language": "python",
   "name": "python3"
  },
  "language_info": {
   "codemirror_mode": {
    "name": "ipython",
    "version": 3
   },
   "file_extension": ".py",
   "mimetype": "text/x-python",
   "name": "python",
   "nbconvert_exporter": "python",
   "pygments_lexer": "ipython3",
   "version": "3.6.7"
  }
 },
 "nbformat": 4,
 "nbformat_minor": 2
}
